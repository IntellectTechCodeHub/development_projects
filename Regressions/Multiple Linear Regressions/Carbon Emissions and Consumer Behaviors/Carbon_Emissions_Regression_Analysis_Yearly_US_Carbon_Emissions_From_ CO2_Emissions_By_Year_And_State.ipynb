{
 "cells": [
  {
   "cell_type": "code",
   "execution_count": null,
   "id": "dd80691e-6c4e-46e1-bf62-8365c133f825",
   "metadata": {},
   "outputs": [],
   "source": [
    "#  Import libraries\n",
    "\n",
    "import pandas as pd \n",
    "import numpy as np\n",
    "import matplotlib.pyplot as pplot\n",
    "import sklearn as scikit\n",
    "\n",
    "from sklearn.model_selection import train_test_split\n",
    "from sklearn.linear_model import LinearRegression\n",
    "from sklearn.metrics import mean_squared_error, r2_score\n",
    "\n",
    "# Libraries for working with MongoDB\n",
    "\n",
    "import pymongo as py\n",
    "\n",
    "from pymongo.mongo_client import MongoClient\n",
    "from pymongo.server_api import ServerApi"
   ]
  },
  {
   "cell_type": "code",
   "execution_count": null,
   "id": "d183b2cf-bb3e-44b5-b03b-6e28b9706afc",
   "metadata": {},
   "outputs": [],
   "source": [
    "# connect to MongoDB client\n",
    "\n",
    "uri = \"\"\n",
    "\n",
    "client = MongoClient(uri,\n",
    "                     tls=True,\n",
    "                     tlsCertificateKeyFile= '',\n",
    "                     server_api=ServerApi('1'))"
   ]
  },
  {
   "cell_type": "code",
   "execution_count": null,
   "id": "dfed8a37-734c-45bb-8d3b-ad19cababb19",
   "metadata": {
    "scrolled": true
   },
   "outputs": [],
   "source": [
    "# Import carbon emissions dataset.\n",
    "\n",
    "db = client[\"RegressionsSources\"]\n",
    "\n",
    "collection_country = db[\"CarbonEmissionsByCountry\"]\n",
    "collection_state = db[\"CarbonEmissionsByState\"]\n",
    "\n",
    "rows_country = collection_country.find()\n",
    "rows_state = collection_state.find()\n",
    "\n",
    "emissions_by_country = pd.DataFrame(rows_country)\n",
    "emissions_by_state = pd.DataFrame(rows_state)"
   ]
  },
  {
   "cell_type": "code",
   "execution_count": null,
   "id": "0f04ac29-86a3-4bb3-8174-e1ced17508b2",
   "metadata": {},
   "outputs": [],
   "source": [
    "# Filter global data to US\n",
    "\n",
    "ce_global_filter = emissions_by_country[emissions_by_country['Country'] == 'United States']\n",
    "ce_global_filter"
   ]
  },
  {
   "cell_type": "code",
   "execution_count": null,
   "id": "4f4adc85-a82c-4801-8dc3-39a7e5aeddb7",
   "metadata": {
    "scrolled": true
   },
   "outputs": [],
   "source": [
    "# Data preparation for joining.\n",
    "\n",
    "ce_global_filter['Year'] = ce_global_filter.apply(lambda x: pd.Series(pd.to_datetime(x[3]).year), axis = 1)\n",
    "ce_global_filter = ce_global_filter.filter(items=['Country', 'Year', 'Kilotons of Co2'])"
   ]
  },
  {
   "cell_type": "code",
   "execution_count": null,
   "id": "933873e2-c287-4ce9-b3db-190016763693",
   "metadata": {},
   "outputs": [],
   "source": [
    "# Enrich carbon emissions dataset with million tons of CO2 (\"value\") by state, sector, and fuel dimensions.\n",
    "\n",
    "rows_merged = ce_global_filter.merge(emissions_by_state, left_on='Year', right_on= 'year')\n",
    "\n",
    "rows_merged_filter = rows_merged.filter(items=['Year', 'Kilotons of Co2', 'value'])\n",
    "\n",
    "rows_emissions_final = rows_merged_filter.rename(columns={'value': 'Million Metric Tons'})"
   ]
  },
  {
   "cell_type": "code",
   "execution_count": null,
   "id": "93328753-dd77-420a-a972-d67165d84006",
   "metadata": {
    "scrolled": true
   },
   "outputs": [],
   "source": [
    "# Copy final data rows. \n",
    "\n",
    "data = rows_emissions_final.copy()\n",
    "\n",
    "# Dependent variable\n",
    "\n",
    "x_dep = data.drop(columns = {'Year', 'Million Metric Tons'}, axis = 1)\n",
    "\n",
    "# Independent variable\n",
    "\n",
    "y_indep = data.drop('Kilotons of Co2', axis = 1)"
   ]
  },
  {
   "cell_type": "code",
   "execution_count": null,
   "id": "3ac0eb1a-4311-4f88-bc06-981124e6b5b4",
   "metadata": {
    "scrolled": true
   },
   "outputs": [],
   "source": [
    "# Train and test data.\n",
    "\n",
    "x_dep_train, x_dep_test, y_indep_train, y_indep_test = train_test_split(x_dep, y_indep, test_size=0.1, random_state=30)"
   ]
  },
  {
   "cell_type": "code",
   "execution_count": null,
   "id": "cc4d1c30-bbe3-4172-84aa-e1eb3ada3eaa",
   "metadata": {},
   "outputs": [],
   "source": [
    "# Linear regression output\n",
    "\n",
    "linear_regression = LinearRegression()\n",
    "\n",
    "lr = linear_regression.fit(x_dep_train, y_indep_train)\n",
    "\n",
    "lr"
   ]
  },
  {
   "cell_type": "code",
   "execution_count": null,
   "id": "dbee11c5-1a02-4909-89e2-8c5d7d3f5a87",
   "metadata": {},
   "outputs": [],
   "source": [
    "# Regression intercepts and coefficients\n",
    "\n",
    "intercept = lr.intercept_\n",
    "coefficients = lr.coef_"
   ]
  },
  {
   "cell_type": "code",
   "execution_count": null,
   "id": "ae878c4a-f5db-450a-a4e8-4f458fc6049b",
   "metadata": {},
   "outputs": [],
   "source": [
    "# Regression training predictions\n",
    "\n",
    "train_indep_pred = lr.predict(x_dep_train)\n",
    "test_indep_pred = lr.predict(x_dep_test)"
   ]
  },
  {
   "cell_type": "code",
   "execution_count": null,
   "id": "ba9d1d1a-d936-40c5-8e4c-6d9ed624c493",
   "metadata": {},
   "outputs": [],
   "source": [
    "# Root squared mean\n",
    "\n",
    "train_r2 = r2_score(y_true= y_indep_train, y_pred = train_indep_pred)\n",
    "test_r2 = r2_score(y_true= y_indep_test, y_pred = test_indep_pred)"
   ]
  },
  {
   "cell_type": "code",
   "execution_count": null,
   "id": "e15b7e20-37e7-4249-8f8c-ce5e88fb1f9d",
   "metadata": {
    "scrolled": true
   },
   "outputs": [],
   "source": [
    "# Matplotlib visuals\n",
    "\n",
    "pplot.title(\"Carbon Emissions Regressions Analysis\")\n",
    "pplot.scatter(y_indep_train, train_indep_pred)\n",
    "pplot.xlabel(\"Actual\")\n",
    "pplot.ylabel(\"Prediction\")\n",
    "pplot.show()"
   ]
  }
 ],
 "metadata": {
  "kernelspec": {
   "display_name": "Python 3 (ipykernel)",
   "language": "python",
   "name": "python3"
  },
  "language_info": {
   "codemirror_mode": {
    "name": "ipython",
    "version": 3
   },
   "file_extension": ".py",
   "mimetype": "text/x-python",
   "name": "python",
   "nbconvert_exporter": "python",
   "pygments_lexer": "ipython3",
   "version": "3.13.1"
  }
 },
 "nbformat": 4,
 "nbformat_minor": 5
}
