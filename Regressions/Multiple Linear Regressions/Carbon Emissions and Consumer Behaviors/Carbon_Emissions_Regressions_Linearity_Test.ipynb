{
 "cells": [
  {
   "cell_type": "code",
   "execution_count": 3,
   "id": "7911309e-0768-47da-aa4a-079a7829f50d",
   "metadata": {},
   "outputs": [],
   "source": [
    "# import required libraries\n",
    "import pandas as pd\n",
    "import numpy as np\n",
    "\n",
    "import sklearn as scikit\n",
    "import matplotlib.pyplot as pyplot"
   ]
  },
  {
   "cell_type": "code",
   "execution_count": 9,
   "id": "dc1bceb4-ccc5-4cef-86dd-bc19054e2d25",
   "metadata": {},
   "outputs": [
    {
     "name": "stdout",
     "output_type": "stream",
     "text": [
      "          Country  Region        Date  Kilotons of Co2  Metric Tons Per Capita\n",
      "0     Afghanistan    Asia  01-01-2011           8930.0                    0.31\n",
      "1     Afghanistan    Asia  01-01-2012           8080.0                    0.27\n",
      "2     Afghanistan    Asia  01-01-2010           7110.0                    0.25\n",
      "3     Afghanistan    Asia  01-01-2019           6080.0                    0.16\n",
      "4     Afghanistan    Asia  01-01-2018           6070.0                    0.17\n",
      "...           ...     ...         ...              ...                     ...\n",
      "5672     Zimbabwe  Africa  01-01-2004           9770.0                    0.80\n",
      "5673     Zimbabwe  Africa  01-01-2007           9760.0                    0.78\n",
      "5674     Zimbabwe  Africa  01-01-2010           9600.0                    0.75\n",
      "5675     Zimbabwe  Africa  01-01-2009           7750.0                    0.61\n",
      "5676     Zimbabwe  Africa  01-01-2008           7600.0                    0.61\n",
      "\n",
      "[5677 rows x 5 columns]\n"
     ]
    }
   ],
   "source": [
    "# read csv \"data/inputs/Carbon Emissions by Country/Carbon_(CO2)_Emissions_by_Country.csv\"\n",
    "\n",
    "df = pd.read_csv('data/inputs/Carbon Emissions by Country/Carbon_(CO2)_Emissions_by_Country.csv')\n",
    "\n",
    "print(df)"
   ]
  },
  {
   "cell_type": "code",
   "execution_count": 13,
   "id": "242bc576-e702-4447-b25c-d46ebc3f329d",
   "metadata": {},
   "outputs": [
    {
     "name": "stdout",
     "output_type": "stream",
     "text": [
      "       year state-name                                      sector-name  \\\n",
      "0      1970    Alabama              Industrial carbon dioxide emissions   \n",
      "1      1970    Alabama              Industrial carbon dioxide emissions   \n",
      "2      1970    Alabama              Industrial carbon dioxide emissions   \n",
      "3      1970    Alabama              Industrial carbon dioxide emissions   \n",
      "4      1970    Alabama  Total carbon dioxide emissions from all sectors   \n",
      "...     ...        ...                                              ...   \n",
      "59896  2021    Wyoming              Commercial carbon dioxide emissions   \n",
      "59897  2021    Wyoming             Residential carbon dioxide emissions   \n",
      "59898  2021    Wyoming             Residential carbon dioxide emissions   \n",
      "59899  2021    Wyoming             Residential carbon dioxide emissions   \n",
      "59900  2021    Wyoming  Total carbon dioxide emissions from all sectors   \n",
      "\n",
      "         fuel-name       value  \n",
      "0             Coal   26.721507  \n",
      "1        Petroleum    3.577779  \n",
      "2      Natural Gas    8.944097  \n",
      "3        All Fuels   39.243383  \n",
      "4        All Fuels  102.646851  \n",
      "...            ...         ...  \n",
      "59896         Coal    0.012374  \n",
      "59897    All Fuels    0.937989  \n",
      "59898  Natural Gas    0.717777  \n",
      "59899    Petroleum    0.220212  \n",
      "59900    Petroleum   10.198574  \n",
      "\n",
      "[59901 rows x 5 columns]\n"
     ]
    }
   ],
   "source": [
    "# read in csv \n",
    "\n",
    "df2 = pd.read_csv('data/inputs/US Carbon Emissions by State/CO2_Emissions_US.csv')\n",
    "\n",
    "print(df2)"
   ]
  },
  {
   "cell_type": "code",
   "execution_count": 31,
   "id": "668fc594-e643-44da-a464-24da8e940598",
   "metadata": {},
   "outputs": [
    {
     "name": "stdout",
     "output_type": "stream",
     "text": [
      "            Country  Year  Kilotons of Co2  Metric Tons Per Capita\n",
      "5407  United States  2000       5775810.00                   20.47\n",
      "5408  United States  2005       5753490.23                   19.47\n",
      "5409  United States  2001       5748260.00                   20.17\n",
      "5410  United States  2004       5738290.04                   19.60\n",
      "5411  United States  2007       5736319.82                   19.04\n",
      "5412  United States  2003       5658990.23                   19.51\n",
      "5413  United States  2006       5653080.08                   18.95\n",
      "5414  United States  1999       5609020.00                   20.10\n",
      "5415  United States  2002       5593029.79                   19.45\n",
      "5416  United States  1998       5590540.00                   20.27\n",
      "5417  United States  2008       5558379.88                   18.28\n",
      "5418  United States  1997       5543350.00                   20.33\n",
      "5419  United States  2010       5392109.86                   17.43\n",
      "5420  United States  1996       5273490.00                   19.58\n",
      "5421  United States  2011       5173600.10                   16.60\n",
      "5422  United States  2009       5156430.18                   16.81\n",
      "5423  United States  1995       5117040.00                   19.22\n",
      "5424  United States  2014       5107209.96                   16.04\n",
      "5425  United States  2013       5092100.10                   16.11\n",
      "5426  United States  1994       5066810.00                   19.26\n",
      "5427  United States  1993       4995210.00                   19.22\n",
      "5428  United States  2015       4990709.96                   15.56\n",
      "5429  United States  2018       4975310.06                   15.22\n",
      "5430  United States  2012       4956060.06                   15.79\n",
      "5431  United States  2016       4894500.00                   15.15\n",
      "5432  United States  1992       4879630.00                   19.02\n",
      "5433  United States  1990       4844520.00                   19.41\n",
      "5434  United States  2017       4819370.12                   14.82\n",
      "5435  United States  2019       4817720.21                   14.67\n",
      "5436  United States  1991       4807500.00                   19.00\n"
     ]
    },
    {
     "name": "stderr",
     "output_type": "stream",
     "text": [
      "C:\\Users\\grego\\AppData\\Local\\Temp\\ipykernel_25328\\80242589.py:4: FutureWarning: Series.__getitem__ treating keys as positions is deprecated. In a future version, integer keys will always be treated as labels (consistent with DataFrame behavior). To access a value by position, use `ser.iloc[pos]`\n",
      "  df['Year'] = df.apply(lambda x: pd.Series(pd.to_datetime(x[2]).year), axis = 1)\n"
     ]
    }
   ],
   "source": [
    "# Data preparation for joining.\n",
    "\n",
    "df = df[df[\"Country\"] == 'United States']\n",
    "df['Year'] = df.apply(lambda x: pd.Series(pd.to_datetime(x[2]).year), axis = 1)\n",
    "ce_global_filter = df.filter(items=['Country', 'Year', 'Kilotons of Co2', 'Metric Tons Per Capita'])\n",
    "print(ce_global_filter)"
   ]
  },
  {
   "cell_type": "code",
   "execution_count": 33,
   "id": "9cef656f-0c57-480f-97db-00c7e403e009",
   "metadata": {},
   "outputs": [
    {
     "name": "stdout",
     "output_type": "stream",
     "text": [
      "             Country  Year  Kilotons of Co2  Metric Tons Per Capita  year  \\\n",
      "0      United States  2000        5775810.0                   20.47  2000   \n",
      "1      United States  2000        5775810.0                   20.47  2000   \n",
      "2      United States  2000        5775810.0                   20.47  2000   \n",
      "3      United States  2000        5775810.0                   20.47  2000   \n",
      "4      United States  2000        5775810.0                   20.47  2000   \n",
      "...              ...   ...              ...                     ...   ...   \n",
      "34213  United States  1991        4807500.0                   19.00  1991   \n",
      "34214  United States  1991        4807500.0                   19.00  1991   \n",
      "34215  United States  1991        4807500.0                   19.00  1991   \n",
      "34216  United States  1991        4807500.0                   19.00  1991   \n",
      "34217  United States  1991        4807500.0                   19.00  1991   \n",
      "\n",
      "      state-name                                      sector-name  \\\n",
      "0        Alabama             Residential carbon dioxide emissions   \n",
      "1        Alabama  Total carbon dioxide emissions from all sectors   \n",
      "2        Alabama  Total carbon dioxide emissions from all sectors   \n",
      "3        Alabama  Total carbon dioxide emissions from all sectors   \n",
      "4        Alabama              Industrial carbon dioxide emissions   \n",
      "...          ...                                              ...   \n",
      "34213    Wyoming              Industrial carbon dioxide emissions   \n",
      "34214    Wyoming  Total carbon dioxide emissions from all sectors   \n",
      "34215    Wyoming  Total carbon dioxide emissions from all sectors   \n",
      "34216    Wyoming  Total carbon dioxide emissions from all sectors   \n",
      "34217    Wyoming  Total carbon dioxide emissions from all sectors   \n",
      "\n",
      "         fuel-name  Million Metric Tons  \n",
      "0             Coal             0.014109  \n",
      "1      Natural Gas            18.997993  \n",
      "2             Coal            85.908083  \n",
      "3        All Fuels           142.298577  \n",
      "4        All Fuels            25.287666  \n",
      "...            ...                  ...  \n",
      "34213    All Fuels             9.717897  \n",
      "34214    All Fuels            55.495746  \n",
      "34215         Coal            42.912113  \n",
      "34216    Petroleum             7.288282  \n",
      "34217  Natural Gas             5.295350  \n",
      "\n",
      "[34218 rows x 9 columns]\n"
     ]
    }
   ],
   "source": [
    "# join data sets\n",
    "\n",
    "combined_df = ce_global_filter.merge(df2, left_on='Year', right_on='year')\n",
    "\n",
    "print(combined_df)\n"
   ]
  },
  {
   "cell_type": "code",
   "execution_count": 34,
   "id": "0a86989b-d206-4fca-9c40-71399cc6d2bb",
   "metadata": {},
   "outputs": [
    {
     "name": "stdout",
     "output_type": "stream",
     "text": [
      "0        5775810.0\n",
      "1        5775810.0\n",
      "2        5775810.0\n",
      "3        5775810.0\n",
      "4        5775810.0\n",
      "           ...    \n",
      "34213    4807500.0\n",
      "34214    4807500.0\n",
      "34215    4807500.0\n",
      "34216    4807500.0\n",
      "34217    4807500.0\n",
      "Name: Kilotons of Co2, Length: 34218, dtype: float64\n",
      "0        20.47\n",
      "1        20.47\n",
      "2        20.47\n",
      "3        20.47\n",
      "4        20.47\n",
      "         ...  \n",
      "34213    19.00\n",
      "34214    19.00\n",
      "34215    19.00\n",
      "34216    19.00\n",
      "34217    19.00\n",
      "Name: Metric Tons Per Capita, Length: 34218, dtype: float64\n",
      "0          0.014109\n",
      "1         18.997993\n",
      "2         85.908083\n",
      "3        142.298577\n",
      "4         25.287666\n",
      "            ...    \n",
      "34213      9.717897\n",
      "34214     55.495746\n",
      "34215     42.912113\n",
      "34216      7.288282\n",
      "34217      5.295350\n",
      "Name: Million Metric Tons, Length: 34218, dtype: float64\n"
     ]
    }
   ],
   "source": [
    "#rename column\n",
    "\n",
    "combined_df = combined_df.rename(columns={ 'value': 'Million Metric Tons' })\n",
    "\n",
    "# lists containing values for dependent and independent variables\n",
    "\n",
    "dep_var_1 = combined_df['Kilotons of Co2']\n",
    "ind_var_1 = combined_df['Metric Tons Per Capita']\n",
    "ind_var_2 = combined_df['Million Metric Tons']\n",
    "\n",
    "\n",
    "print(dep_var_1)\n",
    "print(ind_var_1)\n",
    "print(ind_var_2)"
   ]
  },
  {
   "cell_type": "code",
   "execution_count": 36,
   "id": "45a9d342-e008-4f7b-8e99-126b2472e903",
   "metadata": {},
   "outputs": [
    {
     "data": {
      "text/plain": [
       "<matplotlib.collections.PathCollection at 0x1d087fcce10>"
      ]
     },
     "execution_count": 36,
     "metadata": {},
     "output_type": "execute_result"
    },
    {
     "data": {
      "image/png": "[encoded data removed]",
      "text/plain": [
       "<Figure size 640x480 with 1 Axes>"
      ]
     },
     "metadata": {},
     "output_type": "display_data"
    }
   ],
   "source": [
    "# visualize relationship between Kilotons of CO2 and Metric Tons Per Capita\n",
    "\n",
    "pygraph_1 = pyplot.scatter(dep_var_1, ind_var_1)\n",
    "\n",
    "pygraph_1"
   ]
  },
  {
   "cell_type": "code",
   "execution_count": 37,
   "id": "9161c5c7-be25-4186-b871-3fb650a50861",
   "metadata": {},
   "outputs": [
    {
     "data": {
      "text/plain": [
       "<matplotlib.collections.PathCollection at 0x1d088686c10>"
      ]
     },
     "execution_count": 37,
     "metadata": {},
     "output_type": "execute_result"
    },
    {
     "data": {
      "image/png": "[encoded data removed]",
      "text/plain": [
       "<Figure size 640x480 with 1 Axes>"
      ]
     },
     "metadata": {},
     "output_type": "display_data"
    }
   ],
   "source": [
    "# visualize relationship between Kilotons of CO2 and Million Metric Tons\n",
    "\n",
    "pygraph_2 = pyplot.scatter(dep_var_1, ind_var_2)\n",
    "\n",
    "pygraph_2"
   ]
  },
  {
   "cell_type": "code",
   "execution_count": null,
   "id": "7837b9cf-e89e-403c-86cf-98eb348a4db0",
   "metadata": {},
   "outputs": [],
   "source": []
  }
 ],
 "metadata": {
  "kernelspec": {
   "display_name": "Python 3 (ipykernel)",
   "language": "python",
   "name": "python3"
  },
  "language_info": {
   "codemirror_mode": {
    "name": "ipython",
    "version": 3
   },
   "file_extension": ".py",
   "mimetype": "text/x-python",
   "name": "python",
   "nbconvert_exporter": "python",
   "pygments_lexer": "ipython3",
   "version": "3.13.1"
  }
 },
 "nbformat": 4,
 "nbformat_minor": 5
}
