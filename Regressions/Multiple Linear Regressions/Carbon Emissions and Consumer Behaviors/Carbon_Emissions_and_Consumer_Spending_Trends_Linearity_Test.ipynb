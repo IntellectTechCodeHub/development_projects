{
 "cells": [
  {
   "cell_type": "code",
   "execution_count": 1,
   "id": "25278ab2-2e91-45dc-a434-eba809520e6d",
   "metadata": {},
   "outputs": [],
   "source": [
    "# import required libraries\n",
    "import pandas as pd\n",
    "import numpy as np\n",
    "\n",
    "import sklearn as scikit\n",
    "import matplotlib.pyplot as pyplot"
   ]
  },
  {
   "cell_type": "code",
   "execution_count": 3,
   "id": "25d25a20-bd7e-4d9a-a050-fe3ff8950783",
   "metadata": {},
   "outputs": [
    {
     "name": "stdout",
     "output_type": "stream",
     "text": [
      "       year state-name                                      sector-name  \\\n",
      "0      1970    Alabama              Industrial carbon dioxide emissions   \n",
      "1      1970    Alabama              Industrial carbon dioxide emissions   \n",
      "2      1970    Alabama              Industrial carbon dioxide emissions   \n",
      "3      1970    Alabama              Industrial carbon dioxide emissions   \n",
      "4      1970    Alabama  Total carbon dioxide emissions from all sectors   \n",
      "...     ...        ...                                              ...   \n",
      "59896  2021    Wyoming              Commercial carbon dioxide emissions   \n",
      "59897  2021    Wyoming             Residential carbon dioxide emissions   \n",
      "59898  2021    Wyoming             Residential carbon dioxide emissions   \n",
      "59899  2021    Wyoming             Residential carbon dioxide emissions   \n",
      "59900  2021    Wyoming  Total carbon dioxide emissions from all sectors   \n",
      "\n",
      "         fuel-name       value  \n",
      "0             Coal   26.721507  \n",
      "1        Petroleum    3.577779  \n",
      "2      Natural Gas    8.944097  \n",
      "3        All Fuels   39.243383  \n",
      "4        All Fuels  102.646851  \n",
      "...            ...         ...  \n",
      "59896         Coal    0.012374  \n",
      "59897    All Fuels    0.937989  \n",
      "59898  Natural Gas    0.717777  \n",
      "59899    Petroleum    0.220212  \n",
      "59900    Petroleum   10.198574  \n",
      "\n",
      "[59901 rows x 5 columns]\n"
     ]
    }
   ],
   "source": [
    "# read in csv \n",
    "\n",
    "df = pd.read_csv('data/inputs/US Carbon Emissions by State/CO2_Emissions_US.csv')\n",
    "\n",
    "print(df)"
   ]
  },
  {
   "cell_type": "code",
   "execution_count": 4,
   "id": "0c63540a-c3fb-4902-9a33-5b42edf450e5",
   "metadata": {},
   "outputs": [
    {
     "name": "stdout",
     "output_type": "stream",
     "text": [
      "      Customer ID  Age  Gender Item Purchased     Category  \\\n",
      "0               1   55    Male         Blouse     Clothing   \n",
      "1               2   19    Male        Sweater     Clothing   \n",
      "2               3   50    Male          Jeans     Clothing   \n",
      "3               4   21    Male        Sandals     Footwear   \n",
      "4               5   45    Male         Blouse     Clothing   \n",
      "...           ...  ...     ...            ...          ...   \n",
      "3895         3896   40  Female         Hoodie     Clothing   \n",
      "3896         3897   52  Female       Backpack  Accessories   \n",
      "3897         3898   46  Female           Belt  Accessories   \n",
      "3898         3899   44  Female          Shoes     Footwear   \n",
      "3899         3900   52  Female        Handbag  Accessories   \n",
      "\n",
      "      Purchase Amount (USD)       Location Size      Color  Season  \\\n",
      "0                        53       Kentucky    L       Gray  Winter   \n",
      "1                        64          Maine    L     Maroon  Winter   \n",
      "2                        73  Massachusetts    S     Maroon  Spring   \n",
      "3                        90   Rhode Island    M     Maroon  Spring   \n",
      "4                        49         Oregon    M  Turquoise  Spring   \n",
      "...                     ...            ...  ...        ...     ...   \n",
      "3895                     28       Virginia    L  Turquoise  Summer   \n",
      "3896                     49           Iowa    L      White  Spring   \n",
      "3897                     33     New Jersey    L      Green  Spring   \n",
      "3898                     77      Minnesota    S      Brown  Summer   \n",
      "3899                     81     California    M      Beige  Spring   \n",
      "\n",
      "      Review Rating Subscription Status Payment Method   Shipping Type  \\\n",
      "0               3.1                 Yes    Credit Card         Express   \n",
      "1               3.1                 Yes  Bank Transfer         Express   \n",
      "2               3.1                 Yes           Cash   Free Shipping   \n",
      "3               3.5                 Yes         PayPal    Next Day Air   \n",
      "4               2.7                 Yes           Cash   Free Shipping   \n",
      "...             ...                 ...            ...             ...   \n",
      "3895            4.2                  No           Cash  2-Day Shipping   \n",
      "3896            4.5                  No         PayPal    Store Pickup   \n",
      "3897            2.9                  No    Credit Card        Standard   \n",
      "3898            3.8                  No         PayPal         Express   \n",
      "3899            3.1                  No  Bank Transfer    Store Pickup   \n",
      "\n",
      "     Discount Applied Promo Code Used  Previous Purchases  \\\n",
      "0                 Yes             Yes                  14   \n",
      "1                 Yes             Yes                   2   \n",
      "2                 Yes             Yes                  23   \n",
      "3                 Yes             Yes                  49   \n",
      "4                 Yes             Yes                  31   \n",
      "...               ...             ...                 ...   \n",
      "3895               No              No                  32   \n",
      "3896               No              No                  41   \n",
      "3897               No              No                  24   \n",
      "3898               No              No                  24   \n",
      "3899               No              No                  33   \n",
      "\n",
      "     Preferred Payment Method Frequency of Purchases  \n",
      "0                       Venmo            Fortnightly  \n",
      "1                        Cash            Fortnightly  \n",
      "2                 Credit Card                 Weekly  \n",
      "3                      PayPal                 Weekly  \n",
      "4                      PayPal               Annually  \n",
      "...                       ...                    ...  \n",
      "3895                    Venmo                 Weekly  \n",
      "3896            Bank Transfer              Bi-Weekly  \n",
      "3897                    Venmo              Quarterly  \n",
      "3898                    Venmo                 Weekly  \n",
      "3899                    Venmo              Quarterly  \n",
      "\n",
      "[3900 rows x 19 columns]\n"
     ]
    }
   ],
   "source": [
    "# read in csv \n",
    "\n",
    "df2 = pd.read_csv('data/inputs/Shopping Trends/shopping_trends.csv')\n",
    "\n",
    "print(df2)"
   ]
  },
  {
   "cell_type": "code",
   "execution_count": 11,
   "id": "2160dace-87d3-47e8-8533-63d006bb4c2e",
   "metadata": {},
   "outputs": [
    {
     "name": "stdout",
     "output_type": "stream",
     "text": [
      "         year state-name                                      sector-name  \\\n",
      "0        1970    Alabama              Industrial carbon dioxide emissions   \n",
      "1        1970    Alabama              Industrial carbon dioxide emissions   \n",
      "2        1970    Alabama              Industrial carbon dioxide emissions   \n",
      "3        1970    Alabama              Industrial carbon dioxide emissions   \n",
      "4        1970    Alabama              Industrial carbon dioxide emissions   \n",
      "...       ...        ...                                              ...   \n",
      "4507312  2021    Wyoming  Total carbon dioxide emissions from all sectors   \n",
      "4507313  2021    Wyoming  Total carbon dioxide emissions from all sectors   \n",
      "4507314  2021    Wyoming  Total carbon dioxide emissions from all sectors   \n",
      "4507315  2021    Wyoming  Total carbon dioxide emissions from all sectors   \n",
      "4507316  2021    Wyoming  Total carbon dioxide emissions from all sectors   \n",
      "\n",
      "         fuel-name      value  Customer ID  Age  Gender Item Purchased  \\\n",
      "0             Coal  26.721507           17   25    Male     Sunglasses   \n",
      "1             Coal  26.721507           65   65    Male          Boots   \n",
      "2             Coal  26.721507           71   22    Male           Belt   \n",
      "3             Coal  26.721507          110   58    Male        T-shirt   \n",
      "4             Coal  26.721507          183   38    Male         Gloves   \n",
      "...            ...        ...          ...  ...     ...            ...   \n",
      "4507312  Petroleum  10.198574         3603   58  Female          Skirt   \n",
      "4507313  Petroleum  10.198574         3656   20  Female        Sweater   \n",
      "4507314  Petroleum  10.198574         3683   42  Female          Shirt   \n",
      "4507315  Petroleum  10.198574         3862   64  Female         Jacket   \n",
      "4507316  Petroleum  10.198574         3865   55  Female        T-shirt   \n",
      "\n",
      "            Category  ...  Season Review Rating Subscription Status  \\\n",
      "0        Accessories  ...  Spring           4.1                 Yes   \n",
      "1           Footwear  ...    Fall           4.8                 Yes   \n",
      "2        Accessories  ...    Fall           4.2                 Yes   \n",
      "3           Clothing  ...  Spring           2.6                 Yes   \n",
      "4        Accessories  ...  Summer           2.8                 Yes   \n",
      "...              ...  ...     ...           ...                 ...   \n",
      "4507312     Clothing  ...  Summer           3.3                  No   \n",
      "4507313     Clothing  ...    Fall           2.9                  No   \n",
      "4507314     Clothing  ...    Fall           4.6                  No   \n",
      "4507315    Outerwear  ...  Spring           4.9                  No   \n",
      "4507316     Clothing  ...  Winter           4.9                  No   \n",
      "\n",
      "        Payment Method Shipping Type  Discount Applied Promo Code Used  \\\n",
      "0                Venmo  Next Day Air               Yes             Yes   \n",
      "1               PayPal      Standard               Yes             Yes   \n",
      "2          Credit Card       Express               Yes             Yes   \n",
      "3                 Cash  Next Day Air               Yes             Yes   \n",
      "4                Venmo  Store Pickup               Yes             Yes   \n",
      "...                ...           ...               ...             ...   \n",
      "4507312  Bank Transfer  Store Pickup                No              No   \n",
      "4507313          Venmo  Next Day Air                No              No   \n",
      "4507314          Venmo  Store Pickup                No              No   \n",
      "4507315          Venmo      Standard                No              No   \n",
      "4507316  Bank Transfer       Express                No              No   \n",
      "\n",
      "        Previous Purchases Preferred Payment Method Frequency of Purchases  \n",
      "0                       44               Debit Card              Bi-Weekly  \n",
      "1                       18               Debit Card            Fortnightly  \n",
      "2                       32               Debit Card         Every 3 Months  \n",
      "3                       43            Bank Transfer            Fortnightly  \n",
      "4                       10               Debit Card               Annually  \n",
      "...                    ...                      ...                    ...  \n",
      "4507312                 40               Debit Card              Quarterly  \n",
      "4507313                  4              Credit Card              Bi-Weekly  \n",
      "4507314                 46                    Venmo              Bi-Weekly  \n",
      "4507315                 49              Credit Card                Monthly  \n",
      "4507316                  1               Debit Card            Fortnightly  \n",
      "\n",
      "[4507317 rows x 24 columns]\n"
     ]
    }
   ],
   "source": [
    "# join data sets\n",
    "\n",
    "combined_df = df.merge(df2, left_on='state-name', right_on='Location')\n",
    "\n",
    "print(combined_df)"
   ]
  },
  {
   "cell_type": "code",
   "execution_count": 26,
   "id": "ebe1ae36-3699-4da1-aa0f-0e80cef470ae",
   "metadata": {},
   "outputs": [
    {
     "name": "stdout",
     "output_type": "stream",
     "text": [
      "0      26.721507\n",
      "1      26.721507\n",
      "2      26.721507\n",
      "3      26.721507\n",
      "4      26.721507\n",
      "         ...    \n",
      "195     8.944097\n",
      "196     8.944097\n",
      "197     8.944097\n",
      "198     8.944097\n",
      "199     8.944097\n",
      "Name: value, Length: 200, dtype: float64\n",
      "0      36\n",
      "1      83\n",
      "2      29\n",
      "3      85\n",
      "4      96\n",
      "       ..\n",
      "195    60\n",
      "196    72\n",
      "197    35\n",
      "198    24\n",
      "199    90\n",
      "Name: Purchase Amount (USD), Length: 200, dtype: int64\n",
      "0      4.1\n",
      "1      4.8\n",
      "2      4.2\n",
      "3      2.6\n",
      "4      2.8\n",
      "      ... \n",
      "195    5.0\n",
      "196    3.2\n",
      "197    3.8\n",
      "198    4.2\n",
      "199    4.9\n",
      "Name: Review Rating, Length: 200, dtype: float64\n",
      "0      25\n",
      "1      65\n",
      "2      22\n",
      "3      58\n",
      "4      38\n",
      "       ..\n",
      "195    49\n",
      "196    31\n",
      "197    24\n",
      "198    42\n",
      "199    49\n",
      "Name: Age, Length: 200, dtype: int64\n"
     ]
    }
   ],
   "source": [
    "# set values for dependent and independent variables\n",
    "\n",
    "dep_var_1 = combined_df[\"value\"][:200]\n",
    "ind_var_1 = combined_df[\"Purchase Amount (USD)\"][:200]\n",
    "ind_var_2 = combined_df[\"Review Rating\"][:200]\n",
    "ind_var_3 = combined_df[\"Age\"][:200]\n",
    "\n",
    "print(dep_var_1)\n",
    "print(ind_var_1)\n",
    "print(ind_var_2)\n",
    "print(ind_var_3)"
   ]
  },
  {
   "cell_type": "code",
   "execution_count": 27,
   "id": "0409c69c-842f-491e-9e65-8a4dae151b29",
   "metadata": {},
   "outputs": [
    {
     "data": {
      "text/plain": [
       "<matplotlib.collections.PathCollection at 0x2632af00190>"
      ]
     },
     "execution_count": 27,
     "metadata": {},
     "output_type": "execute_result"
    },
    {
     "data": {
      "image/png": "[encoded data removed]",
      "text/plain": [
       "<Figure size 640x480 with 1 Axes>"
      ]
     },
     "metadata": {},
     "output_type": "display_data"
    }
   ],
   "source": [
    "# visualize relationship between Kilotons of CO2 and Purchase Amount (USD)\n",
    "\n",
    "pygraph_1 = pyplot.scatter(dep_var_1, ind_var_1)\n",
    "\n",
    "pygraph_1"
   ]
  },
  {
   "cell_type": "code",
   "execution_count": 28,
   "id": "73b36e75-0f41-4bac-b9b0-3acb2491683a",
   "metadata": {},
   "outputs": [
    {
     "data": {
      "text/plain": [
       "<matplotlib.collections.PathCollection at 0x2632b0a2e90>"
      ]
     },
     "execution_count": 28,
     "metadata": {},
     "output_type": "execute_result"
    },
    {
     "data": {
      "image/png": "[encoded data removed]",
      "text/plain": [
       "<Figure size 640x480 with 1 Axes>"
      ]
     },
     "metadata": {},
     "output_type": "display_data"
    }
   ],
   "source": [
    "# visualize relationship between Kilotons of CO2 and Review Rating\n",
    "\n",
    "pygraph_2 = pyplot.scatter(dep_var_1, ind_var_2)\n",
    "\n",
    "pygraph_2"
   ]
  },
  {
   "cell_type": "code",
   "execution_count": 29,
   "id": "2c839d32-5aae-4bad-9b1e-cb190675b7d5",
   "metadata": {},
   "outputs": [
    {
     "data": {
      "text/plain": [
       "<matplotlib.collections.PathCollection at 0x2632b124550>"
      ]
     },
     "execution_count": 29,
     "metadata": {},
     "output_type": "execute_result"
    },
    {
     "data": {
      "image/png": "[encoded data removed]",
      "text/plain": [
       "<Figure size 640x480 with 1 Axes>"
      ]
     },
     "metadata": {},
     "output_type": "display_data"
    }
   ],
   "source": [
    "# visualize relationship between Kilotons of CO2 and Review Rating\n",
    "\n",
    "pygraph_3 = pyplot.scatter(dep_var_1, ind_var_3)\n",
    "\n",
    "pygraph_3"
   ]
  },
  {
   "cell_type": "code",
   "execution_count": null,
   "id": "6630d4e3-c6b6-497d-af68-f73135cd1b1b",
   "metadata": {},
   "outputs": [],
   "source": []
  }
 ],
 "metadata": {
  "kernelspec": {
   "display_name": "Python 3 (ipykernel)",
   "language": "python",
   "name": "python3"
  },
  "language_info": {
   "codemirror_mode": {
    "name": "ipython",
    "version": 3
   },
   "file_extension": ".py",
   "mimetype": "text/x-python",
   "name": "python",
   "nbconvert_exporter": "python",
   "pygments_lexer": "ipython3",
   "version": "3.13.1"
  }
 },
 "nbformat": 4,
 "nbformat_minor": 5
}
