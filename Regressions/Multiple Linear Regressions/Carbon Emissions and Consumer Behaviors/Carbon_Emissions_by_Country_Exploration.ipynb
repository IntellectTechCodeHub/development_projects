{
 "cells": [
  {
   "cell_type": "code",
   "execution_count": 126,
   "id": "5c5ae5f2-4edb-438f-8d02-5f3e3340e9a3",
   "metadata": {},
   "outputs": [],
   "source": [
    "# Carbon Emissions Dataset Exploration\n",
    "\n",
    "#import library\n",
    "\n",
    "import pandas as pd\n",
    "import numpy as np\n",
    "import sklearn as scikit\n",
    "import matplotlib.pyplot as pyplot"
   ]
  },
  {
   "cell_type": "code",
   "execution_count": 127,
   "id": "1532868d-c2c7-40b4-8654-e8f1e273db4a",
   "metadata": {},
   "outputs": [
    {
     "name": "stdout",
     "output_type": "stream",
     "text": [
      "          Country  Region        Date  Kilotons of Co2  Metric Tons Per Capita\n",
      "0     Afghanistan    Asia  01-01-2011           8930.0                    0.31\n",
      "1     Afghanistan    Asia  01-01-2012           8080.0                    0.27\n",
      "2     Afghanistan    Asia  01-01-2010           7110.0                    0.25\n",
      "3     Afghanistan    Asia  01-01-2019           6080.0                    0.16\n",
      "4     Afghanistan    Asia  01-01-2018           6070.0                    0.17\n",
      "...           ...     ...         ...              ...                     ...\n",
      "5672     Zimbabwe  Africa  01-01-2004           9770.0                    0.80\n",
      "5673     Zimbabwe  Africa  01-01-2007           9760.0                    0.78\n",
      "5674     Zimbabwe  Africa  01-01-2010           9600.0                    0.75\n",
      "5675     Zimbabwe  Africa  01-01-2009           7750.0                    0.61\n",
      "5676     Zimbabwe  Africa  01-01-2008           7600.0                    0.61\n",
      "\n",
      "[5677 rows x 5 columns]\n"
     ]
    }
   ],
   "source": [
    "# read csv \"data/inputs/Carbon Emissions by Country/Carbon_(CO2)_Emissions_by_Country.csv\"\n",
    "\n",
    "df = pd.read_csv(r'C:\\Users\\grego\\dev\\data\\inputs\\Carbon Emissions by Country\\Carbon_(CO2)_Emissions_by_Country.csv')\n",
    "\n",
    "print(df)"
   ]
  },
  {
   "cell_type": "code",
   "execution_count": 144,
   "id": "ab3f58a2-298e-456c-bcb2-7207e2878bbe",
   "metadata": {},
   "outputs": [
    {
     "name": "stdout",
     "output_type": "stream",
     "text": [
      "[['United States' 'Americas' '01-01-1990' 4807500.0 14.67 '1990']\n",
      " ['United States' 'Americas' '01-01-1991' 4817720.21 14.82 '1991']\n",
      " ['United States' 'Americas' '01-01-1992' 4819370.12 15.15 '1992']\n",
      " ['United States' 'Americas' '01-01-1993' 4844520.0 15.22 '1993']\n",
      " ['United States' 'Americas' '01-01-1994' 4879630.0 15.56 '1994']\n",
      " ['United States' 'Americas' '01-01-1995' 4894500.0 15.79 '1995']\n",
      " ['United States' 'Americas' '01-01-1996' 4956060.06 16.04 '1996']\n",
      " ['United States' 'Americas' '01-01-1997' 4975310.06 16.11 '1997']\n",
      " ['United States' 'Americas' '01-01-1998' 4990709.96 16.6 '1998']\n",
      " ['United States' 'Americas' '01-01-1999' 4995210.0 16.81 '1999']\n",
      " ['United States' 'Americas' '01-01-2000' 5066810.0 17.43 '2000']\n",
      " ['United States' 'Americas' '01-01-2001' 5092100.1 18.28 '2001']\n",
      " ['United States' 'Americas' '01-01-2002' 5107209.96 18.95 '2002']\n",
      " ['United States' 'Americas' '01-01-2003' 5117040.0 19.0 '2003']\n",
      " ['United States' 'Americas' '01-01-2004' 5156430.18 19.02 '2004']\n",
      " ['United States' 'Americas' '01-01-2005' 5173600.1 19.04 '2005']\n",
      " ['United States' 'Americas' '01-01-2006' 5273490.0 19.22 '2006']\n",
      " ['United States' 'Americas' '01-01-2007' 5392109.86 19.22 '2007']\n",
      " ['United States' 'Americas' '01-01-2008' 5543350.0 19.26 '2008']\n",
      " ['United States' 'Americas' '01-01-2009' 5558379.88 19.41 '2009']\n",
      " ['United States' 'Americas' '01-01-2010' 5590540.0 19.45 '2010']\n",
      " ['United States' 'Americas' '01-01-2011' 5593029.79 19.47 '2011']\n",
      " ['United States' 'Americas' '01-01-2012' 5609020.0 19.51 '2012']\n",
      " ['United States' 'Americas' '01-01-2013' 5653080.08 19.58 '2013']\n",
      " ['United States' 'Americas' '01-01-2014' 5658990.23 19.6 '2014']\n",
      " ['United States' 'Americas' '01-01-2015' 5736319.82 20.1 '2015']\n",
      " ['United States' 'Americas' '01-01-2016' 5738290.04 20.17 '2016']\n",
      " ['United States' 'Americas' '01-01-2017' 5748260.0 20.27 '2017']\n",
      " ['United States' 'Americas' '01-01-2018' 5753490.23 20.33 '2018']\n",
      " ['United States' 'Americas' '01-01-2019' 5775810.0 20.47 '2019']]\n"
     ]
    },
    {
     "name": "stderr",
     "output_type": "stream",
     "text": [
      "C:\\Users\\grego\\AppData\\Local\\Temp\\ipykernel_49504\\7184102.py:7: FutureWarning: Series.__getitem__ treating keys as positions is deprecated. In a future version, integer keys will always be treated as labels (consistent with DataFrame behavior). To access a value by position, use `ser.iloc[pos]`\n",
      "  rows_country['Year'] = rows_country.apply(lambda x: pd.Series(str(pd.to_datetime(x[2]).year)), axis = 1)\n",
      "C:\\Users\\grego\\AppData\\Local\\Temp\\ipykernel_49504\\7184102.py:7: SettingWithCopyWarning: \n",
      "A value is trying to be set on a copy of a slice from a DataFrame.\n",
      "Try using .loc[row_indexer,col_indexer] = value instead\n",
      "\n",
      "See the caveats in the documentation: https://pandas.pydata.org/pandas-docs/stable/user_guide/indexing.html#returning-a-view-versus-a-copy\n",
      "  rows_country['Year'] = rows_country.apply(lambda x: pd.Series(str(pd.to_datetime(x[2]).year)), axis = 1)\n"
     ]
    }
   ],
   "source": [
    "# explore US rows\n",
    "\n",
    "rows_country = df[df['Country'] == 'United States']\n",
    "\n",
    "# convert date to year and sort\n",
    "\n",
    "rows_country['Year'] = rows_country.apply(lambda x: pd.Series(str(pd.to_datetime(x[2]).year)), axis = 1)\n",
    "\n",
    "rows_country_arr = np.array(rows_country)\n",
    "\n",
    "rows_country_arr.sort(axis = 0)\n",
    "\n",
    "print(rows_country_arr)"
   ]
  },
  {
   "cell_type": "code",
   "execution_count": 129,
   "id": "2c24f99a-7821-4134-814e-1c3fa915a210",
   "metadata": {},
   "outputs": [
    {
     "name": "stdout",
     "output_type": "stream",
     "text": [
      "US Carbon Emissions in Kilotons of Co2\n",
      "minimum value: 4807500.0\n",
      "maximum value: 5775810.0\n",
      "average ceiling value: 5277263.0\n",
      "mean floor value: 5277262.0\n",
      "variance: 117543125932.0\n",
      "median: 5165016.0\n",
      "standard deviation: 5165016.0\n"
     ]
    }
   ],
   "source": [
    "# min, max, average, and mean\n",
    "\n",
    "print('US Carbon Emissions in Kilotons of Co2')\n",
    "\n",
    "rows_min = np.min(rows_country['Kilotons of Co2'])\n",
    "print('minimum value: ' + str(rows_min))\n",
    "\n",
    "rows_max = np.max(rows_country['Kilotons of Co2'])\n",
    "print('maximum value: ' + str(rows_max))\n",
    "\n",
    "rows_average = np.average(rows_country['Kilotons of Co2'])\n",
    "print('average ceiling value: ' + str(np.ceil(rows_average)))\n",
    "\n",
    "rows_mean = np.mean(rows_country['Kilotons of Co2'])\n",
    "print('mean floor value: ' + str(np.floor(rows_mean)))\n",
    "\n",
    "# statisical values\n",
    "\n",
    "rows_var = np.var(rows_country['Kilotons of Co2'])\n",
    "print('variance: ' + str(np.ceil(rows_var)))\n",
    "\n",
    "rows_median = np.median(rows_country['Kilotons of Co2'])\n",
    "print('median: ' + str(np.ceil(rows_median)))\n",
    "\n",
    "rows_std = np.median(rows_country['Kilotons of Co2'])\n",
    "print('standard deviation: ' + str(np.ceil(rows_std)))"
   ]
  },
  {
   "cell_type": "code",
   "execution_count": 130,
   "id": "4b5da63f-00c2-4d6b-80e1-7970503e7c9e",
   "metadata": {},
   "outputs": [
    {
     "name": "stdout",
     "output_type": "stream",
     "text": [
      "(30, 6)\n"
     ]
    }
   ],
   "source": [
    "# data shape\n",
    "\n",
    "print(rows_country.shape)"
   ]
  },
  {
   "cell_type": "code",
   "execution_count": 132,
   "id": "d4c0d480-311c-42dc-b0c4-bf671fd7b8ff",
   "metadata": {},
   "outputs": [
    {
     "data": {
      "image/png": "[encoded data removed]",
      "text/plain": [
       "<Figure size 640x480 with 1 Axes>"
      ]
     },
     "metadata": {},
     "output_type": "display_data"
    }
   ],
   "source": [
    "# visualize yearly Kilotons of Co2\n",
    "\n",
    "date = rows_country['Year']\n",
    "\n",
    "values = rows_country['Kilotons of Co2']\n",
    "\n",
    "# pyplot.scatter(date, values)\n",
    "pyplot.plot(date, values)\n",
    "pyplot.title('Yearly US Carbon Emissions')\n",
    "pyplot.xlabel('Year')\n",
    "pyplot.ylabel('Kilotons of Co2')\n",
    "pyplot.show()"
   ]
  },
  {
   "cell_type": "code",
   "execution_count": null,
   "id": "3a0537a1-b829-4deb-b4c9-02984f54883a",
   "metadata": {},
   "outputs": [],
   "source": []
  }
 ],
 "metadata": {
  "kernelspec": {
   "display_name": "Python 3 (ipykernel)",
   "language": "python",
   "name": "python3"
  },
  "language_info": {
   "codemirror_mode": {
    "name": "ipython",
    "version": 3
   },
   "file_extension": ".py",
   "mimetype": "text/x-python",
   "name": "python",
   "nbconvert_exporter": "python",
   "pygments_lexer": "ipython3",
   "version": "3.13.1"
  }
 },
 "nbformat": 4,
 "nbformat_minor": 5
}
