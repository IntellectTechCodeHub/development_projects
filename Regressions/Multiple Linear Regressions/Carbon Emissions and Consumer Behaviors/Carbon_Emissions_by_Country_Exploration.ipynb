{
 "cells": [
  {
   "cell_type": "code",
   "execution_count": 69,
   "id": "ac576755-943a-42ec-9014-2491d3a092ca",
   "metadata": {},
   "outputs": [],
   "source": [
    "# Carbon Emissions Dataset Exploration\n",
    "\n",
    "#import library\n",
    "\n",
    "import pandas as pd\n",
    "import numpy as np\n",
    "import sklearn as scikit\n",
    "import matplotlib.pyplot as pyplot"
   ]
  },
  {
   "cell_type": "code",
   "execution_count": 70,
   "id": "1532868d-c2c7-40b4-8654-e8f1e273db4a",
   "metadata": {},
   "outputs": [
    {
     "name": "stdout",
     "output_type": "stream",
     "text": [
      "          Country  Region        Date  Kilotons of Co2  Metric Tons Per Capita\n",
      "0     Afghanistan    Asia  01-01-2011           8930.0                    0.31\n",
      "1     Afghanistan    Asia  01-01-2012           8080.0                    0.27\n",
      "2     Afghanistan    Asia  01-01-2010           7110.0                    0.25\n",
      "3     Afghanistan    Asia  01-01-2019           6080.0                    0.16\n",
      "4     Afghanistan    Asia  01-01-2018           6070.0                    0.17\n",
      "...           ...     ...         ...              ...                     ...\n",
      "5672     Zimbabwe  Africa  01-01-2004           9770.0                    0.80\n",
      "5673     Zimbabwe  Africa  01-01-2007           9760.0                    0.78\n",
      "5674     Zimbabwe  Africa  01-01-2010           9600.0                    0.75\n",
      "5675     Zimbabwe  Africa  01-01-2009           7750.0                    0.61\n",
      "5676     Zimbabwe  Africa  01-01-2008           7600.0                    0.61\n",
      "\n",
      "[5677 rows x 5 columns]\n"
     ]
    }
   ],
   "source": [
    "# read csv \"data/inputs/Carbon Emissions by Country/Carbon_(CO2)_Emissions_by_Country.csv\"\n",
    "\n",
    "df = pd.read_csv(r'C:\\Users\\grego\\dev\\data\\inputs\\Carbon Emissions by Country\\Carbon_(CO2)_Emissions_by_Country.csv')\n",
    "\n",
    "print(df)"
   ]
  },
  {
   "cell_type": "code",
   "execution_count": 71,
   "id": "ab3f58a2-298e-456c-bcb2-7207e2878bbe",
   "metadata": {},
   "outputs": [
    {
     "name": "stdout",
     "output_type": "stream",
     "text": [
      "            Country    Region        Date  Kilotons of Co2  \\\n",
      "5407  United States  Americas  01-01-2000       5775810.00   \n",
      "5408  United States  Americas  01-01-2005       5753490.23   \n",
      "5409  United States  Americas  01-01-2001       5748260.00   \n",
      "5410  United States  Americas  01-01-2004       5738290.04   \n",
      "5411  United States  Americas  01-01-2007       5736319.82   \n",
      "5412  United States  Americas  01-01-2003       5658990.23   \n",
      "5413  United States  Americas  01-01-2006       5653080.08   \n",
      "5414  United States  Americas  01-01-1999       5609020.00   \n",
      "5415  United States  Americas  01-01-2002       5593029.79   \n",
      "5416  United States  Americas  01-01-1998       5590540.00   \n",
      "5417  United States  Americas  01-01-2008       5558379.88   \n",
      "5418  United States  Americas  01-01-1997       5543350.00   \n",
      "5419  United States  Americas  01-01-2010       5392109.86   \n",
      "5420  United States  Americas  01-01-1996       5273490.00   \n",
      "5421  United States  Americas  01-01-2011       5173600.10   \n",
      "5422  United States  Americas  01-01-2009       5156430.18   \n",
      "5423  United States  Americas  01-01-1995       5117040.00   \n",
      "5424  United States  Americas  01-01-2014       5107209.96   \n",
      "5425  United States  Americas  01-01-2013       5092100.10   \n",
      "5426  United States  Americas  01-01-1994       5066810.00   \n",
      "5427  United States  Americas  01-01-1993       4995210.00   \n",
      "5428  United States  Americas  01-01-2015       4990709.96   \n",
      "5429  United States  Americas  01-01-2018       4975310.06   \n",
      "5430  United States  Americas  01-01-2012       4956060.06   \n",
      "5431  United States  Americas  01-01-2016       4894500.00   \n",
      "5432  United States  Americas  01-01-1992       4879630.00   \n",
      "5433  United States  Americas  01-01-1990       4844520.00   \n",
      "5434  United States  Americas  01-01-2017       4819370.12   \n",
      "5435  United States  Americas  01-01-2019       4817720.21   \n",
      "5436  United States  Americas  01-01-1991       4807500.00   \n",
      "\n",
      "      Metric Tons Per Capita  \n",
      "5407                   20.47  \n",
      "5408                   19.47  \n",
      "5409                   20.17  \n",
      "5410                   19.60  \n",
      "5411                   19.04  \n",
      "5412                   19.51  \n",
      "5413                   18.95  \n",
      "5414                   20.10  \n",
      "5415                   19.45  \n",
      "5416                   20.27  \n",
      "5417                   18.28  \n",
      "5418                   20.33  \n",
      "5419                   17.43  \n",
      "5420                   19.58  \n",
      "5421                   16.60  \n",
      "5422                   16.81  \n",
      "5423                   19.22  \n",
      "5424                   16.04  \n",
      "5425                   16.11  \n",
      "5426                   19.26  \n",
      "5427                   19.22  \n",
      "5428                   15.56  \n",
      "5429                   15.22  \n",
      "5430                   15.79  \n",
      "5431                   15.15  \n",
      "5432                   19.02  \n",
      "5433                   19.41  \n",
      "5434                   14.82  \n",
      "5435                   14.67  \n",
      "5436                   19.00  \n"
     ]
    }
   ],
   "source": [
    "# explore US rows\n",
    "\n",
    "rows_country = df[df['Country'] == 'United States']\n",
    "\n",
    "print(rows_country)"
   ]
  },
  {
   "cell_type": "code",
   "execution_count": 72,
   "id": "2c24f99a-7821-4134-814e-1c3fa915a210",
   "metadata": {},
   "outputs": [
    {
     "name": "stdout",
     "output_type": "stream",
     "text": [
      "US Carbon Emissions in Kilotons of Co2\n",
      "minimum value: 4807500.0\n",
      "maximum value: 5775810.0\n",
      "average ceiling value: 5277263.0\n",
      "mean floor value: 5277262.0\n"
     ]
    }
   ],
   "source": [
    "# min, max, average, and mean\n",
    "\n",
    "print('US Carbon Emissions in Kilotons of Co2')\n",
    "\n",
    "rows_min = np.min(rows_country['Kilotons of Co2'])\n",
    "print('minimum value: ' + str(rows_min))\n",
    "\n",
    "rows_max = np.max(rows_country['Kilotons of Co2'])\n",
    "print('maximum value: ' + str(rows_max))\n",
    "\n",
    "rows_average = np.average(rows_country['Kilotons of Co2'])\n",
    "print('average ceiling value: ' + str(np.ceil(rows_average)))\n",
    "\n",
    "rows_mean = np.mean(rows_country['Kilotons of Co2'])\n",
    "print('mean floor value: ' + str(np.floor(rows_mean)))\n"
   ]
  },
  {
   "cell_type": "code",
   "execution_count": 73,
   "id": "4b5da63f-00c2-4d6b-80e1-7970503e7c9e",
   "metadata": {},
   "outputs": [
    {
     "name": "stdout",
     "output_type": "stream",
     "text": [
      "(30, 5)\n"
     ]
    }
   ],
   "source": [
    "# data shape\n",
    "\n",
    "print(rows_country.shape)"
   ]
  },
  {
   "cell_type": "code",
   "execution_count": 74,
   "id": "52a78d4c-3d9c-401a-9ff3-052f89187374",
   "metadata": {},
   "outputs": [
    {
     "name": "stdout",
     "output_type": "stream",
     "text": [
      "array data type: object\n",
      "first record value for Kilotons of Co2: 5775810.0\n",
      "full array:\n",
      "[['United States' 'Americas' '01-01-2000' 5775810.0 20.47]\n",
      " ['United States' 'Americas' '01-01-2005' 5753490.23 19.47]\n",
      " ['United States' 'Americas' '01-01-2001' 5748260.0 20.17]\n",
      " ['United States' 'Americas' '01-01-2004' 5738290.04 19.6]\n",
      " ['United States' 'Americas' '01-01-2007' 5736319.82 19.04]\n",
      " ['United States' 'Americas' '01-01-2003' 5658990.23 19.51]\n",
      " ['United States' 'Americas' '01-01-2006' 5653080.08 18.95]\n",
      " ['United States' 'Americas' '01-01-1999' 5609020.0 20.1]\n",
      " ['United States' 'Americas' '01-01-2002' 5593029.79 19.45]\n",
      " ['United States' 'Americas' '01-01-1998' 5590540.0 20.27]\n",
      " ['United States' 'Americas' '01-01-2008' 5558379.88 18.28]\n",
      " ['United States' 'Americas' '01-01-1997' 5543350.0 20.33]\n",
      " ['United States' 'Americas' '01-01-2010' 5392109.86 17.43]\n",
      " ['United States' 'Americas' '01-01-1996' 5273490.0 19.58]\n",
      " ['United States' 'Americas' '01-01-2011' 5173600.1 16.6]\n",
      " ['United States' 'Americas' '01-01-2009' 5156430.18 16.81]\n",
      " ['United States' 'Americas' '01-01-1995' 5117040.0 19.22]\n",
      " ['United States' 'Americas' '01-01-2014' 5107209.96 16.04]\n",
      " ['United States' 'Americas' '01-01-2013' 5092100.1 16.11]\n",
      " ['United States' 'Americas' '01-01-1994' 5066810.0 19.26]\n",
      " ['United States' 'Americas' '01-01-1993' 4995210.0 19.22]\n",
      " ['United States' 'Americas' '01-01-2015' 4990709.96 15.56]\n",
      " ['United States' 'Americas' '01-01-2018' 4975310.06 15.22]\n",
      " ['United States' 'Americas' '01-01-2012' 4956060.06 15.79]\n",
      " ['United States' 'Americas' '01-01-2016' 4894500.0 15.15]\n",
      " ['United States' 'Americas' '01-01-1992' 4879630.0 19.02]\n",
      " ['United States' 'Americas' '01-01-1990' 4844520.0 19.41]\n",
      " ['United States' 'Americas' '01-01-2017' 4819370.12 14.82]\n",
      " ['United States' 'Americas' '01-01-2019' 4817720.21 14.67]\n",
      " ['United States' 'Americas' '01-01-1991' 4807500.0 19.0]]\n"
     ]
    }
   ],
   "source": [
    "# convert data frame to array, , specific value selection, and array.\n",
    "\n",
    "rows_array = np.array(rows_country)\n",
    "\n",
    "print('array data type: ' + str(rows_array.dtype))\n",
    "\n",
    "print('first record value for Kilotons of Co2: ' + str(rows_array[0][3]))\n",
    "\n",
    "print('full array:')\n",
    "print(rows_array)"
   ]
  },
  {
   "cell_type": "code",
   "execution_count": 68,
   "id": "d4c0d480-311c-42dc-b0c4-bf671fd7b8ff",
   "metadata": {},
   "outputs": [
    {
     "data": {
      "image/png": "[encoded data removed]",
      "text/plain": [
       "<Figure size 640x480 with 1 Axes>"
      ]
     },
     "metadata": {},
     "output_type": "display_data"
    }
   ],
   "source": [
    "# visualize yearly Kilotons of Co2\n",
    "\n",
    "date = rows_country['Date']\n",
    "\n",
    "values = rows_country['Kilotons of Co2']\n",
    "\n",
    "# pyplot.scatter(date, values)\n",
    "pyplot.plot(date, values)\n",
    "pyplot.title('Yearly US Carbon Emissions')\n",
    "pyplot.xlabel('Year')\n",
    "pyplot.ylabel('Kilotons of Co2')\n",
    "pyplot.show()"
   ]
  },
  {
   "cell_type": "code",
   "execution_count": null,
   "id": "3a0537a1-b829-4deb-b4c9-02984f54883a",
   "metadata": {},
   "outputs": [],
   "source": []
  }
 ],
 "metadata": {
  "kernelspec": {
   "display_name": "Python 3 (ipykernel)",
   "language": "python",
   "name": "python3"
  },
  "language_info": {
   "codemirror_mode": {
    "name": "ipython",
    "version": 3
   },
   "file_extension": ".py",
   "mimetype": "text/x-python",
   "name": "python",
   "nbconvert_exporter": "python",
   "pygments_lexer": "ipython3",
   "version": "3.13.1"
  }
 },
 "nbformat": 4,
 "nbformat_minor": 5
}
