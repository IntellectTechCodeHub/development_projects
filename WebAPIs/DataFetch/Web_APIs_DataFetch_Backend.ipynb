{
 "cells": [
  {
   "cell_type": "code",
   "execution_count": 29,
   "id": "6181372f-580a-4d81-b57d-716a4790bda3",
   "metadata": {},
   "outputs": [
    {
     "name": "stdout",
     "output_type": "stream",
     "text": [
      " * Serving Flask app '__main__'\n",
      " * Debug mode: off\n"
     ]
    },
    {
     "name": "stderr",
     "output_type": "stream",
     "text": [
      "WARNING: This is a development server. Do not use it in a production deployment. Use a production WSGI server instead.\n",
      " * Running on http://127.0.0.1:5000\n",
      "Press CTRL+C to quit\n",
      "127.0.0.1 - - [16/Feb/2025 14:52:45] \"GET /DataFetch/emissions HTTP/1.1\" 200 -\n",
      "127.0.0.1 - - [16/Feb/2025 14:52:45] \"POST /DataFetch/emissions/2025/100.598 HTTP/1.1\" 200 -\n"
     ]
    },
    {
     "ename": "SystemExit",
     "evalue": "",
     "output_type": "error",
     "traceback": [
      "An exception has occurred, use %tb to see the full traceback.\n",
      "\u001b[1;31mSystemExit\u001b[0m\n"
     ]
    }
   ],
   "source": [
    "# import libraries\n",
    "\n",
    "import sys\n",
    "from flask import Flask, jsonify\n",
    "\n",
    "# data retrieval object\n",
    "\n",
    "data = {'year': '2025', 'emissions': 100.598}\n",
    "\n",
    "# initialize app\n",
    "\n",
    "app = Flask(__name__)\n",
    "\n",
    "# get http request\n",
    "\n",
    "@app.route('/DataFetch/emissions', methods=['GET'])\n",
    "\n",
    "# data retrival function\n",
    "\n",
    "def emissions(): \n",
    "    return jsonify(data)\n",
    "\n",
    "# post http request\n",
    "\n",
    "@app.route('/DataFetch/emissions/<string:year>/<float:emissions>', methods = ['POST'])\n",
    "\n",
    "# data save function\n",
    "\n",
    "def emissions_save(year, emissions):\n",
    "    return jsonify({'year': year, 'emissions': emissions})\n",
    "    \n",
    "# main function\n",
    "\n",
    "def main():\n",
    "  try:  \n",
    "    app.run(debug=False)\n",
    "  except ValueError as err:\n",
    "      return str(err)\n",
    "      \n",
    "# begin main function\n",
    "\n",
    "if __name__ == \"__main__\":\n",
    "    sys.exit(main())"
   ]
  },
  {
   "cell_type": "code",
   "execution_count": null,
   "id": "6ae331b5-4fe7-4f3b-b9c0-a7aed31211da",
   "metadata": {},
   "outputs": [],
   "source": []
  }
 ],
 "metadata": {
  "kernelspec": {
   "display_name": "Python 3 (ipykernel)",
   "language": "python",
   "name": "python3"
  },
  "language_info": {
   "codemirror_mode": {
    "name": "ipython",
    "version": 3
   },
   "file_extension": ".py",
   "mimetype": "text/x-python",
   "name": "python",
   "nbconvert_exporter": "python",
   "pygments_lexer": "ipython3",
   "version": "3.13.1"
  }
 },
 "nbformat": 4,
 "nbformat_minor": 5
}
