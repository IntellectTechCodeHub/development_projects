{
 "cells": [
  {
   "cell_type": "code",
   "execution_count": 8,
   "id": "ded36aed-ff47-47cd-a63b-9820d8779271",
   "metadata": {},
   "outputs": [
    {
     "name": "stdout",
     "output_type": "stream",
     "text": [
      "{\"emissions\":100.598,\"year\":\"2025\"}\n",
      "\n",
      "{\"emissions\":100.598,\"year\":\"2025\"}\n",
      "\n"
     ]
    }
   ],
   "source": [
    "# import libraries\n",
    "\n",
    "import requests\n",
    "\n",
    "#create requests\n",
    "\n",
    "req = requests.get('http://127.0.0.1:5000/DataFetch/emissions')\n",
    "\n",
    "req_post = requests.post('http://127.0.0.1:5000/DataFetch/emissions/2025/100.598')\n",
    "\n",
    "# print data\n",
    "\n",
    "print(req.text)\n",
    "print(req_post.text)"
   ]
  },
  {
   "cell_type": "code",
   "execution_count": null,
   "id": "9267b44d-4dfa-48aa-b897-78dbef2a4036",
   "metadata": {},
   "outputs": [],
   "source": []
  },
  {
   "cell_type": "code",
   "execution_count": null,
   "id": "c4ba8681-b26d-40f8-b1c7-20c01c483e1d",
   "metadata": {},
   "outputs": [],
   "source": []
  }
 ],
 "metadata": {
  "kernelspec": {
   "display_name": "Python 3 (ipykernel)",
   "language": "python",
   "name": "python3"
  },
  "language_info": {
   "codemirror_mode": {
    "name": "ipython",
    "version": 3
   },
   "file_extension": ".py",
   "mimetype": "text/x-python",
   "name": "python",
   "nbconvert_exporter": "python",
   "pygments_lexer": "ipython3",
   "version": "3.13.1"
  }
 },
 "nbformat": 4,
 "nbformat_minor": 5
}
