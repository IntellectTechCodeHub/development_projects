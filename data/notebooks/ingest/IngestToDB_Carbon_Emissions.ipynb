{
 "cells": [
  {
   "cell_type": "code",
   "execution_count": null,
   "id": "5327db39-a399-4efd-9945-a81a36aaf9d9",
   "metadata": {},
   "outputs": [],
   "source": [
    "# libraries for importing files and .connecting to MongoDB\n",
    "\n",
    "import pymongo as py\n",
    "import pandas as pd\n",
    "import json as json\n",
    "\n",
    "from pymongo.mongo_client import MongoClient\n",
    "from pymongo.server_api import ServerApi\n",
    "from urllib.parse import quote_plus"
   ]
  },
  {
   "cell_type": "code",
   "execution_count": null,
   "id": "e7fb5af1-15e0-45c5-aa85-9be80418c06c",
   "metadata": {},
   "outputs": [],
   "source": [
    "# connect to MongoDB client\n",
    "\n",
    "uri = \"\"\n",
    "\n",
    "client = MongoClient(uri,\n",
    "                     tls=True,\n",
    "                     tlsCertificateKeyFile= '',\n",
    "                     server_api=ServerApi('1'))"
   ]
  },
  {
   "cell_type": "code",
   "execution_count": null,
   "id": "4513e280-7eb5-4b3c-88dc-90ea140d99b9",
   "metadata": {},
   "outputs": [],
   "source": [
    "# read csv input files\n",
    "\n",
    "df_emissions_by_country = pd.read_csv('/data/inputs/Carbon Emissions by Country/Carbon_(CO2)_Emissions_by_Country.csv')\n",
    "df_emissions_by_state = pd.read_csv('/data/inputs/US Carbon Emissions by State/CO2_Emissions_US.csv')"
   ]
  },
  {
   "cell_type": "code",
   "execution_count": null,
   "id": "e730444d-d705-488a-a847-afd146d9859e",
   "metadata": {},
   "outputs": [],
   "source": [
    "# convert data frame to dictionary\n",
    "\n",
    "data_1 = df_emissions_by_country.to_dict(orient= \"records\")\n",
    "data_2 = df_emissions_by_state.to_dict(orient= \"records\")"
   ]
  },
  {
   "cell_type": "code",
   "execution_count": null,
   "id": "5a08b2dc-c50f-444a-9278-ac333f63a4eb",
   "metadata": {},
   "outputs": [],
   "source": [
    "# create database in MongoDB\n",
    "\n",
    "db = client[\"RegressionsSources\"]"
   ]
  },
  {
   "cell_type": "code",
   "execution_count": null,
   "id": "36661e66-7843-4eb3-923f-f84a1ad71281",
   "metadata": {
    "scrolled": true
   },
   "outputs": [],
   "source": [
    "# pass dictionary to MongoDB insert many method\n",
    "\n",
    "collection_country = db[\"CarbonEmissionsByCountry\"]\n",
    "collection_state = db[\"CarbonEmissionsByState\"]\n",
    "\n",
    "collection_country.insert_many(data_1);\n",
    "collection_state.insert_many(data_2);"
   ]
  },
  {
   "cell_type": "code",
   "execution_count": null,
   "id": "52be4509-d8ad-4789-95fe-307311ae6b87",
   "metadata": {},
   "outputs": [],
   "source": [
    "# verify database is created and populated\n",
    "\n",
    "records_country = db['CarbonEmissionsByCountry'].find()\n",
    "records_state = db['CarbonEmissionsByState'].find()"
   ]
  }
 ],
 "metadata": {
  "kernelspec": {
   "display_name": "Python 3 (ipykernel)",
   "language": "python",
   "name": "python3"
  },
  "language_info": {
   "codemirror_mode": {
    "name": "ipython",
    "version": 3
   },
   "file_extension": ".py",
   "mimetype": "text/x-python",
   "name": "python",
   "nbconvert_exporter": "python",
   "pygments_lexer": "ipython3",
   "version": "3.13.1"
  }
 },
 "nbformat": 4,
 "nbformat_minor": 5
}
