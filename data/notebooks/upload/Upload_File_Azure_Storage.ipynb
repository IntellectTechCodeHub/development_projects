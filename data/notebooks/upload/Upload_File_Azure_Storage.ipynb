{
 "cells": [
  {
   "cell_type": "code",
   "execution_count": 1,
   "id": "893c8410-eb3b-48c5-ac7a-2ebddd7cede9",
   "metadata": {},
   "outputs": [],
   "source": [
    "# import libraries\n",
    "\n",
    "import os \n",
    "\n",
    "from azure.storage.filedatalake import DataLakeServiceClient\n",
    "from azure.storage.filedatalake import DataLakeDirectoryClient\n",
    "from azure.storage.filedatalake import FileSystemClient\n",
    "\n",
    "from azure.identity import DefaultAzureCredential\n"
   ]
  },
  {
   "cell_type": "code",
   "execution_count": 2,
   "id": "4a32c397-e635-40d5-9bd9-44965a3c53cc",
   "metadata": {},
   "outputs": [],
   "source": [
    "# function to access and connect to data resources using Azure DataLakeServiceClient\n",
    "\n",
    "def get_service_client_token_cred(account_name, account_key) -> DataLakeServiceClient:\n",
    "        account_url = f\"https://{account_name}.dfs.core.windows.net\"\n",
    "\n",
    "        service_client = DataLakeServiceClient(account_url, credential=account_key)\n",
    "\n",
    "        return service_client"
   ]
  },
  {
   "cell_type": "code",
   "execution_count": 3,
   "id": "7db5ebbb-36c9-4edd-bb5f-5043563cf9a5",
   "metadata": {},
   "outputs": [],
   "source": [
    "# function to access and connect to data resources using Azure DataLakeDirectoryClient\n",
    "\n",
    "def get_directory_client_token_cred(account_name, file_share_name, directoryname, account_key) -> DataLakeDirectoryClient:\n",
    "        account_url = f\"https://{account_name}.dfs.core.windows.net\"\n",
    "\n",
    "        directory_client = DataLakeDirectoryClient(account_url, file_system_name = file_share_name , directory_name = directoryname, credential=account_key)\n",
    "\n",
    "        return directory_client"
   ]
  },
  {
   "cell_type": "code",
   "execution_count": 4,
   "id": "d5089436-2ec6-4a01-bb3d-63cbccbca26b",
   "metadata": {},
   "outputs": [],
   "source": [
    "# function to download a csv file from Azure Storage\n",
    "\n",
    "def download_file_from_directory(directory_client: DataLakeDirectoryClient, local_path: str, file_name: str):\n",
    "    file_client = directory_client.get_file_client(file_name)\n",
    "\n",
    "    with open(file=os.path.join(local_path, file_name), mode=\"wb\") as local_file:\n",
    "        download =file_client.download_file()\n",
    "        local_file.write(download.readall())\n",
    "        local_file.close()"
   ]
  },
  {
   "cell_type": "code",
   "execution_count": 5,
   "id": "240482f5-ec86-4337-83ed-62931abbde55",
   "metadata": {},
   "outputs": [
    {
     "name": "stdout",
     "output_type": "stream",
     "text": [
      "<azure.storage.filedatalake._data_lake_service_client.DataLakeServiceClient object at 0x000002490703C2F0>\n"
     ]
    }
   ],
   "source": [
    "# retrieve service client\n",
    "\n",
    "sc = get_service_client_token_cred(account_name = 'devdatastore1', account_key='')\n",
    "\n",
    "print(sc)"
   ]
  },
  {
   "cell_type": "code",
   "execution_count": 6,
   "id": "2131be99-5123-489e-8ca6-3d35533423e9",
   "metadata": {},
   "outputs": [
    {
     "name": "stdout",
     "output_type": "stream",
     "text": [
      "<azure.storage.filedatalake._data_lake_directory_client.DataLakeDirectoryClient object at 0x0000024907908D70>\n"
     ]
    }
   ],
   "source": [
    "# retrieve directory client\n",
    "\n",
    "dc = get_directory_client_token_cred(account_name = 'devdatastore1', file_share_name = 'container1', directoryname = 'dev_project_demo_1', account_key = '')\n",
    "\n",
    "print(dc)"
   ]
  },
  {
   "cell_type": "code",
   "execution_count": 7,
   "id": "c703e987-c681-41e7-9249-8ebd74cfed07",
   "metadata": {},
   "outputs": [
    {
     "name": "stdout",
     "output_type": "stream",
     "text": [
      "True\n"
     ]
    }
   ],
   "source": [
    "# file system exists check\n",
    "\n",
    "fsc = sc.get_file_system_client(\"container1\")\n",
    "\n",
    "fs_exists = fsc.exists()\n",
    "\n",
    "print(fs_exists)\n"
   ]
  },
  {
   "cell_type": "code",
   "execution_count": 8,
   "id": "f97b9120-d951-4f9f-8958-f8afb0c412ce",
   "metadata": {},
   "outputs": [
    {
     "name": "stdout",
     "output_type": "stream",
     "text": [
      "None\n"
     ]
    }
   ],
   "source": [
    "# download csv file from \"/data/inputs/Carbon Emissions by Country/Carbon_(CO2)_Emissions_by_Country.csv\n",
    "\n",
    "csv = download_file_from_directory(directory_client = dc, local_path = r\"\\data\\inputs\\Carbon Emissions by Country\\\", file_name = 'Carbon_(CO2)_Emissions_by_Country.csv')\n",
    "\n",
    "print(csv)"
   ]
  },
  {
   "cell_type": "code",
   "execution_count": null,
   "id": "42e435b3-d20b-4f52-9db1-77e6d17edf01",
   "metadata": {},
   "outputs": [],
   "source": []
  }
 ],
 "metadata": {
  "kernelspec": {
   "display_name": "Python 3 (ipykernel)",
   "language": "python",
   "name": "python3"
  },
  "language_info": {
   "codemirror_mode": {
    "name": "ipython",
    "version": 3
   },
   "file_extension": ".py",
   "mimetype": "text/x-python",
   "name": "python",
   "nbconvert_exporter": "python",
   "pygments_lexer": "ipython3",
   "version": "3.13.1"
  }
 },
 "nbformat": 4,
 "nbformat_minor": 5
}
