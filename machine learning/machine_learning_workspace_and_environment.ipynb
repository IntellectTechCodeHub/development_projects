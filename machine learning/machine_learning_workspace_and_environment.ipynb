{
 "cells": [
  {
   "cell_type": "code",
   "execution_count": null,
   "id": "b8bea322-891b-46c9-9eee-2d061ce19362",
   "metadata": {},
   "outputs": [],
   "source": [
    "# import Azure ML libraries\n",
    "\n",
    "import os\n",
    "from azure.ai.ml import MLClient\n",
    "from azure.identity import DefaultAzureCredential, ClientSecretCredential\n",
    "\n",
    "from azure.ai.ml.entities import Environment"
   ]
  },
  {
   "cell_type": "code",
   "execution_count": null,
   "id": "b96eb04a-9699-454f-a6fe-37e74c3444e3",
   "metadata": {},
   "outputs": [],
   "source": [
    "# retrieve client secret\n",
    "\n",
    "app_tenant_id = os.environ[\"App_Registration_Tenant_ID\"]\n",
    "app_id = os.environ['App_Registration_Client_ID']\n",
    "secret_value = os.environ['App_Registration_Secret_Value']\n",
    "\n",
    "credentials_secret = ClientSecretCredential(\n",
    "    tenant_id = app_tenant_id, client_id = app_id, client_secret = secret_value\n",
    ")"
   ]
  },
  {
   "cell_type": "code",
   "execution_count": null,
   "id": "2dd08bc2-bcdc-486f-bc49-c1a993658c01",
   "metadata": {},
   "outputs": [],
   "source": [
    "# authenticate to the Azure ML workspace\n",
    "\n",
    "subscription_id = os.environ['Subscription_ID']\n",
    "resource_group_name = os.environ['Resource_Group_Name']\n",
    "workspace_name = os.environ['Azure_ML_Workspace_Name']\n",
    "\n",
    "ml_client = MLClient(\n",
    "        credentials_secret, subscription_id, resource_group_name, workspace_name\n",
    ")\n",
    "\n",
    "workspaces = ml_client.workspaces.list()\n",
    "\n",
    "workspace_list = enumerate(workspaces)\n",
    "\n",
    "for i, workspace in workspace_list:\n",
    "   print(workspace)"
   ]
  },
  {
   "cell_type": "code",
   "execution_count": null,
   "id": "2bbecde9-5436-4a15-9dea-4d2d6ef0ea13",
   "metadata": {},
   "outputs": [],
   "source": [
    "env_conda_yaml = Environment(\n",
    "    image = \"mcr.microsoft.com/azureml/openmpi4.1.0-ubuntu20.04\",\n",
    "    conda_file = \"../conda_yaml/ml_data.yaml\",\n",
    "    name = \"azure-ml-data-environment-1\",\n",
    "    description = \"The machine learning environment for simple ML pipeline components in the azure-ml-data-workspace-1.\"\n",
    ")\n",
    "\n",
    "print(env_conda_yaml)\n",
    " \n",
    "workspace = ml_client.workspaces.get(workspace_name)\n",
    "\n",
    "print(workspace)\n",
    "\n",
    "env = ml_client.environments.create_or_update(env_conda_yaml)\n",
    "\n",
    "print(env)"
   ]
  }
 ],
 "metadata": {
  "kernelspec": {
   "display_name": "Python 3 (ipykernel)",
   "language": "python",
   "name": "python3"
  },
  "language_info": {
   "codemirror_mode": {
    "name": "ipython",
    "version": 3
   },
   "file_extension": ".py",
   "mimetype": "text/x-python",
   "name": "python",
   "nbconvert_exporter": "python",
   "pygments_lexer": "ipython3",
   "version": "3.13.1"
  }
 },
 "nbformat": 4,
 "nbformat_minor": 5
}
